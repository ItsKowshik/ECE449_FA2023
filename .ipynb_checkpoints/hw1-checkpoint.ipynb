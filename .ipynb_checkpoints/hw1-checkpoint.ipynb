{
 "cells": [
  {
   "cell_type": "code",
   "execution_count": 28,
   "id": "7031c199",
   "metadata": {},
   "outputs": [],
   "source": [
    "import pandas as pd\n",
    "import matplotlib.pyplot as plt\n",
    "import seaborn as sns\n",
    "import numpy as np\n",
    "from sklearn.linear_model import LinearRegression\n",
    "from sklearn.metrics import mean_squared_error, r2_score"
   ]
  },
  {
   "cell_type": "markdown",
   "id": "c3aefd0e",
   "metadata": {},
   "source": [
    "## Question 1"
   ]
  },
  {
   "cell_type": "code",
   "execution_count": 29,
   "id": "b6da1d21",
   "metadata": {},
   "outputs": [
    {
     "name": "stdout",
     "output_type": "stream",
     "text": [
      "(5, 3)\n",
      "[ 1.24959219 -1.17768804  0.75334737]\n"
     ]
    }
   ],
   "source": [
    "#Question 1\n",
    "#By using normal equations\n",
    "x1 = np.zeros(5)\n",
    "x2 = np.zeros(5)\n",
    "for i in range(1,6):\n",
    "    x1[i-1]=(np.cos(2*i))\n",
    "    x2[i-1]=(np.cos(5*i))\n",
    "y = np.array([2.4,1.3,-0.5,1.6,2.8])\n",
    "\n",
    "x1_ = x1.reshape(-1,1)\n",
    "x2_ = x2.reshape(-1,1)\n",
    "y_ = y.reshape(-1,1)\n",
    "X = np.hstack([np.ones(5).reshape(-1,1),x1_,x2_])\n",
    "print(X.shape)\n",
    "#print(X)\n",
    "#print(y)\n",
    "#By using normal equation\n",
    "theta = np.linalg.inv(X.T@X)@X.T@y\n",
    "print(theta)"
   ]
  },
  {
   "cell_type": "code",
   "execution_count": 32,
   "id": "2d99213b",
   "metadata": {},
   "outputs": [
    {
     "name": "stdout",
     "output_type": "stream",
     "text": [
      "[-1.17768804  0.75334737] 1.2495921919356916\n"
     ]
    }
   ],
   "source": [
    "#By using scikit learn\n",
    "model = LinearRegression()\n",
    "model.fit(X[:,1:],y)\n",
    "print(model.coef_,model.intercept_)"
   ]
  },
  {
   "cell_type": "markdown",
   "id": "2b2553b6",
   "metadata": {},
   "source": [
    "## Question 2\n"
   ]
  },
  {
   "cell_type": "code",
   "execution_count": null,
   "id": "70e16965",
   "metadata": {},
   "outputs": [],
   "source": []
  }
 ],
 "metadata": {
  "kernelspec": {
   "display_name": "firstenv",
   "language": "python",
   "name": "firstenv"
  },
  "language_info": {
   "codemirror_mode": {
    "name": "ipython",
    "version": 3
   },
   "file_extension": ".py",
   "mimetype": "text/x-python",
   "name": "python",
   "nbconvert_exporter": "python",
   "pygments_lexer": "ipython3",
   "version": "3.11.5"
  }
 },
 "nbformat": 4,
 "nbformat_minor": 5
}
