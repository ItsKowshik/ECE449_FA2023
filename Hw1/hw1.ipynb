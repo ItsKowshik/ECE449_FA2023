{
 "cells": [
  {
   "cell_type": "code",
   "execution_count": 1,
   "id": "873e68a9",
   "metadata": {},
   "outputs": [],
   "source": [
    "import pandas as pd\n",
    "import matplotlib.pyplot as plt\n",
    "import seaborn as sns\n",
    "import numpy as np\n",
    "from sklearn.linear_model import LinearRegression\n",
    "from sklearn.metrics import mean_squared_error, r2_score\n",
    "from sklearn.neighbors import KNeighborsClassifier\n",
    "from sklearn import svm"
   ]
  },
  {
   "cell_type": "markdown",
   "id": "56df0d1a",
   "metadata": {},
   "source": [
    "## Question 1"
   ]
  },
  {
   "cell_type": "code",
   "execution_count": 2,
   "id": "3900bfac",
   "metadata": {},
   "outputs": [
    {
     "name": "stdout",
     "output_type": "stream",
     "text": [
      "The input dataset:  [[ 1.         -0.41614684  0.28366219]\n",
      " [ 1.         -0.65364362 -0.83907153]\n",
      " [ 1.          0.96017029 -0.75968791]\n",
      " [ 1.         -0.14550003  0.40808206]\n",
      " [ 1.         -0.83907153  0.99120281]]\n",
      "The output vector:  [[ 2.4]\n",
      " [ 1.3]\n",
      " [-0.5]\n",
      " [ 1.6]\n",
      " [ 2.8]]\n",
      "The weights according to normal equations:  [ 1.24959219 -1.17768804  0.75334737]\n"
     ]
    }
   ],
   "source": [
    "#Question 1\n",
    "#By using normal equations\n",
    "x1 = np.zeros(5)\n",
    "x2 = np.zeros(5)\n",
    "for i in range(1,6):\n",
    "    x1[i-1]=(np.cos(2*i))\n",
    "    x2[i-1]=(np.cos(5*i))\n",
    "y = np.array([2.4,1.3,-0.5,1.6,2.8])\n",
    "\n",
    "x1_ = x1.reshape(-1,1)\n",
    "x2_ = x2.reshape(-1,1)\n",
    "y_ = y.reshape(-1,1)\n",
    "X = np.hstack([np.ones(5).reshape(-1,1),x1_,x2_])\n",
    "#print(X.shape)\n",
    "print(\"The input dataset: \", X)\n",
    "print(\"The output vector: \", y_)\n",
    "#By using normal equation\n",
    "theta = np.linalg.inv(X.T@X)@X.T@y\n",
    "print(\"The weights according to normal equations: \", theta)"
   ]
  },
  {
   "cell_type": "code",
   "execution_count": 3,
   "id": "974b17c8",
   "metadata": {},
   "outputs": [
    {
     "name": "stdout",
     "output_type": "stream",
     "text": [
      "The model weights according to sklearn:  [-1.17768804  0.75334737]\n",
      "The model intercept according to sklearn:  1.2495921919356916\n"
     ]
    }
   ],
   "source": [
    "#By using scikit learn\n",
    "model = LinearRegression()\n",
    "model.fit(X[:,1:],y)\n",
    "print(\"The model weights according to sklearn: \", model.coef_)\n",
    "print(\"The model intercept according to sklearn: \", model.intercept_)\n",
    "#print(model.coef_,model.intercept_)"
   ]
  },
  {
   "cell_type": "markdown",
   "id": "16e24313",
   "metadata": {},
   "source": [
    "## Question 2\n"
   ]
  },
  {
   "cell_type": "code",
   "execution_count": 4,
   "id": "002ad252",
   "metadata": {},
   "outputs": [
    {
     "name": "stdout",
     "output_type": "stream",
     "text": [
      "The input datasaet:  [[2 3]\n",
      " [4 2]\n",
      " [1 1]\n",
      " [5 4]\n",
      " [3 2]\n",
      " [6 5]\n",
      " [5 2]\n",
      " [2 4]\n",
      " [3 5]\n",
      " [4 4]]\n",
      "The output vectore:  [0 1 0 1 0 1 1 0 0 1]\n",
      "The class prediction of the query according to KNN classifier with n=1:  [1]\n",
      "The class prediction of the query according to KNN classifier with n=3:  [1]\n"
     ]
    }
   ],
   "source": [
    "#KNN classifier using sklearn here label A,B is taken as 0,1\n",
    "x1 = np.array([2,4,1,5,3,6,5,2,3,4])\n",
    "x2 = np.array([3,2,1,4,2,5,2,4,5,4])\n",
    "#The categorical data is turned into binary data with 0=A and 1=B\n",
    "y = np.array([0,1,0,1,0,1,1,0,0,1])\n",
    "X = np.hstack([x1.reshape(-1,1),x2.reshape(-1,1)])\n",
    "y_ = y.reshape(-1,)\n",
    "print(\"The input datasaet: \", X)\n",
    "print(\"The output vectore: \", y)\n",
    "query=[[4,3]] #The query point\n",
    "model2 = KNeighborsClassifier(n_neighbors=1)\n",
    "model2.fit(X,y_)\n",
    "print(\"The class prediction of the query according to KNN classifier with n=1: \", model2.predict(query))\n",
    "model3 = KNeighborsClassifier(n_neighbors=3)\n",
    "model3.fit(X,y_)\n",
    "print(\"The class prediction of the query according to KNN classifier with n=3: \", model2.predict(query))"
   ]
  },
  {
   "cell_type": "markdown",
   "id": "7c217bb5",
   "metadata": {},
   "source": [
    "## Question 3"
   ]
  },
  {
   "cell_type": "code",
   "execution_count": 5,
   "id": "4132fcf0",
   "metadata": {},
   "outputs": [
    {
     "name": "stdout",
     "output_type": "stream",
     "text": [
      "The support vectors are  [[4. 2.]\n",
      " [4. 4.]\n",
      " [3. 2.]\n",
      " [3. 5.]]\n",
      "The weight coefficients are:  [[-1.7  0.1]]\n",
      "The bias coefficients are:  [5.6]\n",
      "The number of support vectors for each class:  [2 2]\n",
      "The decision functions for the samples are:  [ 2.5 -1.   4.  -2.5  0.7 -4.1 -2.7  2.6  1.  -0.8]\n",
      "The prediction for a point (4,3):  [-1]\n"
     ]
    }
   ],
   "source": [
    "#The input is same as the previous question\n",
    "#The output must be changed to +1 and -1 respectively with A=+1 and B=-1\n",
    "X_svm = X\n",
    "y_svm = np.array([1,-1,1,-1,1,-1,-1,1,1,-1,])\n",
    "y_svm_ = y_svm.reshape(-1,)\n",
    "\n",
    "svm_model = svm.SVC(kernel='linear')\n",
    "svm_model.fit(X_svm,y_svm_)\n",
    "print(\"The support vectors are \", svm_model.support_vectors_)\n",
    "print(\"The weight coefficients are: \", svm_model.coef_)\n",
    "print(\"The bias coefficients are: \", svm_model.intercept_)\n",
    "print(\"The number of support vectors for each class: \", svm_model.n_support_)\n",
    "print(\"The decision functions for the samples are: \", svm_model.decision_function(X_svm))\n",
    "print(\"The prediction for a point (4,3): \", svm_model.predict([[4,3]]))"
   ]
  },
  {
   "cell_type": "code",
   "execution_count": null,
   "id": "64d3aa91",
   "metadata": {},
   "outputs": [],
   "source": []
  }
 ],
 "metadata": {
  "kernelspec": {
   "display_name": "firstenv",
   "language": "python",
   "name": "firstenv"
  },
  "language_info": {
   "codemirror_mode": {
    "name": "ipython",
    "version": 3
   },
   "file_extension": ".py",
   "mimetype": "text/x-python",
   "name": "python",
   "nbconvert_exporter": "python",
   "pygments_lexer": "ipython3",
   "version": "3.11.5"
  }
 },
 "nbformat": 4,
 "nbformat_minor": 5
}
